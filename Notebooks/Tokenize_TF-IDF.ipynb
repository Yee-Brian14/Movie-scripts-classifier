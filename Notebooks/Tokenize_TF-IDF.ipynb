{
 "cells": [
  {
   "cell_type": "code",
   "execution_count": null,
   "metadata": {},
   "outputs": [],
   "source": [
    "!pip install names"
   ]
  },
  {
   "cell_type": "code",
   "execution_count": 1,
   "metadata": {},
   "outputs": [],
   "source": [
    "import nltk\n",
    "from nltk.corpus import stopwords, names\n",
    "from nltk.corpus import names as nm\n",
    "import string\n",
    "import names\n",
    "from nltk import word_tokenize, FreqDist\n",
    "from sklearn.feature_extraction.text import TfidfVectorizer\n",
    "from sklearn.metrics import accuracy_score\n",
    "from nltk.stem.wordnet import WordNetLemmatizer\n",
    "import random\n",
    "import pandas as pd\n",
    "import pickle\n",
    "import numpy as np\n",
    "import csv\n"
   ]
  },
  {
   "cell_type": "markdown",
   "metadata": {},
   "source": [
    "# Import Data and Split into Training and Test Sets"
   ]
  },
  {
   "cell_type": "code",
   "execution_count": 18,
   "metadata": {},
   "outputs": [],
   "source": [
    "# raw romance, horror and fantasy scripts imported\n",
    "horror_scripts_raw = pickle.load(open('hor_scripts.p','rb'))"
   ]
  },
  {
   "cell_type": "code",
   "execution_count": 19,
   "metadata": {},
   "outputs": [],
   "source": [
    "romance_scripts_raw = pickle.load(open('rom_scripts.p','rb'))"
   ]
  },
  {
   "cell_type": "code",
   "execution_count": 20,
   "metadata": {},
   "outputs": [],
   "source": [
    "fantasy_scripts_raw = pickle.load(open('fan_scripts.p','rb'))"
   ]
  },
  {
   "cell_type": "code",
   "execution_count": 23,
   "metadata": {},
   "outputs": [],
   "source": [
    "# each shuffled so that they are no longer in alphabitical order\n",
    "def dict_shuffle(dict_):\n",
    "    l = list(dict_.items())\n",
    "    random.shuffle(l)\n",
    "    dict_1 = dict(l)\n",
    "    return dict_1"
   ]
  },
  {
   "cell_type": "code",
   "execution_count": 24,
   "metadata": {},
   "outputs": [],
   "source": [
    "horror_scripts_raw_shuff = dict_shuffle(horror_scripts_raw)"
   ]
  },
  {
   "cell_type": "code",
   "execution_count": 25,
   "metadata": {},
   "outputs": [],
   "source": [
    "romance_scripts_raw_shuff = dict_shuffle(romance_scripts_raw)"
   ]
  },
  {
   "cell_type": "code",
   "execution_count": 26,
   "metadata": {},
   "outputs": [],
   "source": [
    "fantasy_scripts_raw_shuff = dict_shuffle(fantasy_scripts_raw)"
   ]
  },
  {
   "cell_type": "code",
   "execution_count": 27,
   "metadata": {},
   "outputs": [],
   "source": [
    "# Romance label is 0, horror 1 and fantasy 2.\n",
    "# label = {'Romance':0,'Horror':1,'Fantasy':2}"
   ]
  },
  {
   "cell_type": "code",
   "execution_count": 51,
   "metadata": {},
   "outputs": [
    {
     "data": {
      "text/plain": [
       "(147, 197, 116)"
      ]
     },
     "execution_count": 51,
     "metadata": {},
     "output_type": "execute_result"
    }
   ],
   "source": [
    "len(horror_scripts_raw_shuff.keys()), len(romance_scripts_raw_shuff.keys()), len(fantasy_scripts_raw_shuff.keys())"
   ]
  },
  {
   "cell_type": "code",
   "execution_count": 52,
   "metadata": {},
   "outputs": [
    {
     "data": {
      "text/plain": [
       "110566"
      ]
     },
     "execution_count": 52,
     "metadata": {},
     "output_type": "execute_result"
    }
   ],
   "source": [
    "len(horror_scripts_raw_shuff['28 DAYS LATER'])"
   ]
  },
  {
   "cell_type": "code",
   "execution_count": 58,
   "metadata": {
    "code_folding": []
   },
   "outputs": [],
   "source": [
    "keys_list_train = []\n",
    "keys_list_test = []\n",
    "X_train = []\n",
    "X_test = []\n",
    "y_train = []\n",
    "y_test = []"
   ]
  },
  {
   "cell_type": "code",
   "execution_count": 59,
   "metadata": {
    "code_folding": []
   },
   "outputs": [],
   "source": [
    "# 116 scripts are used from each genere to maintain sample balance\n",
    "# the data is split into 80% training and 20% testing\n",
    "def train_test_split(data, feat_train, label_train, feat_test, label_test, label):\n",
    "    counter = 0\n",
    "    for k,v in data.items():\n",
    "        if counter < 92:\n",
    "            print('train',k,counter);\n",
    "            feat_train.append(v)\n",
    "            keys_list_train.append(k)\n",
    "            label_train.append(label)\n",
    "            counter +=1\n",
    "        elif counter >= 92 and counter < 116:\n",
    "            print('test',k,counter);\n",
    "            feat_test.append(v)\n",
    "            keys_list_test.append(k)\n",
    "            label_test.append(label)\n",
    "            counter +=1\n",
    "        else:\n",
    "            break"
   ]
  },
  {
   "cell_type": "code",
   "execution_count": 60,
   "metadata": {
    "collapsed": true
   },
   "outputs": [
    {
     "name": "stdout",
     "output_type": "stream",
     "text": [
      "train THE LAST OF THE MOHICANS 0\n",
      "train \"WHITE CHRISTMAS\" 1\n",
      "train THE BIJOU 2\n",
      "train Crouching Tiger, Hidden Dragon 3\n",
      "train MARLEY & ME 4\n",
      "train Chasing Amy 5\n",
      "train \"Never Been Kissed\" 6\n",
      "train THE ARTIST 7\n",
      "train THE GREAT GATSBY 8\n",
      "train AIRPLANE 9\n",
      "train HER 10\n",
      "train JUNO 11\n",
      "train \"IT'S A WONDERFUL LIFE\" 12\n",
      "train T H E   A M E R I C A N   P R E S I D E N T 13\n",
      "train MRS BROWN BY JEREMY BROCK 14\n",
      "train W I L D  A T  H E A R T 15\n",
      "train \"BIRTHDAY GIRL\" 16\n",
      "train PRIDE AND PREJUDICE 17\n",
      "train HIGH FIDELITY 18\n",
      "train VANILLA SKY 19\n",
      "train PEARL HARBOR - by Randall Wallace 20\n",
      "train SILVER LININGS PLAYBOOK 21\n",
      "train \"The Princess Bride\" 22\n",
      "train 500 DAYS OF SUMMER 23\n",
      "train CHARADE 24\n",
      "train THE THEORY OF EVERYTHING 25\n",
      "train EASY \"A\" 26\n",
      "train DATE NIGHT 27\n",
      "train \"THE HUDSUCKER PROXY\" 28\n",
      "train TALL IN THE SADDLE 29\n",
      "train FADE IN 30\n",
      "train M  U  L  H  O  L  L  A  N  D 31\n",
      "train THE BODYGUARD 32\n",
      "train HEAVENLY CREATURES 33\n",
      "train AUTUMN IN NEW YORK 34\n",
      "train THE BATTLE OF SHAKER HEIGHTS 35\n",
      "train A WALK TO REMEMBER 36\n",
      "train THE READER 37\n",
      "train \"COLD MOUNTAIN\" 38\n",
      "train JERRY MAGUIRE 39\n",
      "train THE PERKS OF BEING a WALLFLOWER 40\n",
      "train SOMETHING'S GOTTA GIVE 41\n",
      "train FRANKENSTEIN 42\n",
      "train MARTY 43\n",
      "train Clueless 44\n",
      "train \"NATURAL BORN KILLERS\" 45\n",
      "train YES MAN 46\n",
      "train THE COOLER 47\n",
      "train JANE EYRE 48\n",
      "train ANGEL EYES 49\n",
      "train THE ADJUSTMENT BUREAU 50\n",
      "train TRISTAN + ISOLDE 51\n",
      "train I LOVE YOU PHILLIP MORRIS 52\n",
      "train SHE'S OUT OF MY LEAGUE 53\n",
      "train \"BODIES, REST & MOTION\" 54\n",
      "train SEX AND THE CITY: THE MOVIE 55\n",
      "train NINE 56\n",
      "train TAMARA DREWE 57\n",
      "train GARDEN STATE 58\n",
      "train CHAPTER ONE - EARLY HISTORY 59\n",
      "train M Y   B E S T   F R I E N D ' S   W E D D I N G 60\n",
      "train LOG #028 61\n",
      "train SHREK 62\n",
      "train P R E T T Y   W O M A N 63\n",
      "train THE THINGS MY FATHER NEVER TAUGHT ME 64\n",
      "train TRUE ROMANCE 65\n",
      "train \"Out of Sight\" 66\n",
      "train WILLIAM SHAKESPEARE'S 67\n",
      "train BLUE VALENTINE 68\n",
      "train TIN CUP 69\n",
      "train BURNING ANNIE 70\n",
      "train THE LITTLE MERMAID 71\n",
      "train KILL YOUR DARLINGS 72\n",
      "train FROM HERE TO ETERNITY 73\n",
      "train THE SESSIONS 74\n",
      "train AMOUR 75\n",
      "train THE BIG SICK 76\n",
      "train RUST AND BONE 77\n",
      "train SAVE THE LAST DANCE 78\n",
      "train BROKEN EMBRACES 79\n",
      "train MONTE CARLO 80\n",
      "train THE OTHER BOLEYN GIRL 81\n",
      "train GROSSE POINTE BLANK 82\n",
      "train INT. PUBLISHING HOUSE RECEPTION AREA - DAY 83\n",
      "train \"INTOLERABLE CRUELTY\" 84\n",
      "train \"THE GRADUATE\" 85\n",
      "train TWILIGHT 86\n",
      "train HANNAH AND HER SISTERS 87\n",
      "train ST. ELMO'S FIRE 88\n",
      "train CRAZY LOVE 89\n",
      "train R U N A W A Y   B R I D E 90\n",
      "train ALMOST FAMOUS by Cameron Crowe's 91\n",
      "test LABOR OF LOVE 92\n",
      "test CELESTE AND JESSE FOREVER 93\n",
      "test <script> 94\n",
      "test ULTIMO TANGO A PARIGI 95\n",
      "test N O T T I N G   H I L L 96\n",
      "test ZEROPHILIA 97\n",
      "test INVENTING THE ABBOTTS 98\n",
      "test TWILIGHT: NEW MOON 99\n",
      "test LOST IN TRANSLATION 100\n",
      "test WALL-E 101\n",
      "test PRETTY WOMAN 102\n",
      "test BARRY LYNDON 103\n",
      "test \"HIS GIRL FRIDAY\" 104\n",
      "test THE MASK 105\n",
      "test \"SO I MARRIED AN AXE MURDERER\" 106\n",
      "test \"WITNESS\" 107\n",
      "test \"STARMAN\" 108\n",
      "test HOW TO LOSE FRIENDS AND ALIENATE PEOPLE 109\n",
      "test GRAND HOTEL 110\n",
      "test NINOTCHKA 111\n",
      "test UP IN THE AIR 112\n",
      "test THE BACK-UP PLAN 113\n",
      "test PUNCH-DRUNK LOVE by Paul Thomas Anderson 114\n",
      "test RACHEL GETTING MARRIED 115\n",
      "train PEEPING TOM 0\n",
      "train \"THE MUMMY\" 1\n",
      "train FRANKENSTEIN 2\n",
      "train JASON-X 3\n",
      "train I SPIT ON YOUR GRAVE 4\n",
      "train \"THE SHINING.\" 5\n",
      "train THE NINES 6\n",
      "train CHERRY FALLS 7\n",
      "train LAKE PLACID 8\n",
      "train THEY 9\n",
      "train Scream 2 10\n",
      "train HELLRAISER: DEADER 11\n",
      "train THE RING 12\n",
      "train \"RED DRAGON\" 13\n",
      "train THE AMITYVILLE ASYLUM 14\n",
      "train MIRRORS 15\n",
      "train HELLRAISER II : HELLBOUND 16\n",
      "train Interview with the Vampire 17\n",
      "train GRABBERS 18\n",
      "train CONSTANTINE 19\n",
      "train WHAT LIES BENEATH 20\n",
      "train WHEN A STRANGER CALLS 21\n",
      "train BOOK OF THE DEAD 22\n",
      "train LEVIATHAN 23\n",
      "train QUEEN OF THE DAMNED 24\n",
      "train Gothika 25\n",
      "train TITLE SEQUENCE 26\n",
      "train SIGNS 27\n",
      "train Lost Highway 28\n",
      "train Alien III 29\n",
      "train THE 30\n",
      "train CARRIE II 31\n",
      "train \"THE SILENCE OF THE LAMBS\" 32\n",
      "train THE LOST WORLD 33\n",
      "train SCREAM 34\n",
      "train THE DEVIL'S ADVOCATE 35\n",
      "train \"ALIENS\" 36\n",
      "train JENNIFER'S BODY 37\n",
      "train M i M i C 38\n",
      "train \"JAWS 2\" 39\n",
      "train HEAVY METAL - by Dan Goldberg & Len Blum 40\n",
      "train INSIDIOUS 41\n",
      "train THE GRUDGE 42\n",
      "train THE TALENTED MR. RIPLEY 43\n",
      "train FADE IN 44\n",
      "train DRAG ME TO HELL 45\n",
      "train PRIEST 46\n",
      "train A QUIET PLACE 47\n",
      "train LEGION 48\n",
      "train \"HUNTER\" 49\n",
      "train TWILIGHT: NEW MOON 50\n",
      "train \"HELLBOY\" 51\n",
      "train SLITHER 52\n",
      "train Wes Craven's 53\n",
      "train PITCH BLACK 54\n",
      "train \"SHIVERS\" 55\n",
      "train CUBE 56\n",
      "train IT 57\n",
      "train FRIDAY THE 13TH PART VIII: JASON TAKES MANHATTAN 58\n",
      "train STIR OF ECHOES 59\n",
      "train \"THE CROW: SALVATION\" -- by Chip Johannessen 60\n",
      "train SWEENEY TODD: THE DEMON BARBER OF FLEET STREET 61\n",
      "train \"HOUSE OF 1000 CORPSES\" 62\n",
      "train PROM NIGHT 63\n",
      "train PET SEMATARY II 64\n",
      "train INT. BEDROOM - NIGHT 65\n",
      "train DAWN OF 66\n",
      "train Suspect Zero 67\n",
      "train M  U  L  H  O  L  L  A  N  D 68\n",
      "train \"FINAL DESTINATION\" 69\n",
      "train FINAL DESTINATION 2 70\n",
      "train NIGHTMARE 13 -- FREDDY MEETS JASON 71\n",
      "train BLADE 72\n",
      "train ARAC ATTACK 73\n",
      "train NIGHTBREED 74\n",
      "train Alien Resurrection 75\n",
      "train HELLRAISER 76\n",
      "train CARRIE 77\n",
      "train GINGER SNAPS 78\n",
      "train Deep Rising 79\n",
      "train EVIL DEAD II 80\n",
      "train T W I N   P E A K S 81\n",
      "train GET OUT 82\n",
      "train GREMLINS 83\n",
      "train 28 DAYS LATER 84\n",
      "train S. S. Wilson & Brent Maddock's \"Tremors\" 85\n",
      "train The script to 86\n",
      "train AFTER.LIFE 87\n",
      "train \"PSYCHO\" 88\n",
      "train THE ADDAMS FAMILY 89\n",
      "train \"THE BIRDS\" 90\n",
      "train DAY 91\n",
      "test \"GHOST SHIP\" 92\n",
      "test WIND CHILL 93\n",
      "test MUTE WITNESS 94\n",
      "test HALLOWEEN 95\n",
      "test THE RUINS 96\n",
      "test FRIGHT NIGHT 97\n",
      "test \"PET SEMATARY\" 98\n",
      "test <b><!-- 99\n",
      "test ALIEN 100\n",
      "test PANDORUM 101\n",
      "test FEAST 102\n",
      "test \"EVENT HORIZON\" 103\n",
      "test FADE IN: 104\n",
      "test HEAVENLY CREATURES 105\n",
      "test THE ROOMMATE 106\n",
      "test Bones 107\n",
      "test CASE 39 108\n",
      "test RELIC 109\n",
      "test The Hollow Man 110\n",
      "test THE HAUNTING OF HILL HOUSE 111\n",
      "test \"THE THING\" 112\n",
      "test HELLRAISER III: HELL ON EARTH 113\n",
      "test \"MISERY\" 114\n",
      "test Aliens vs. Predator 115\n",
      "train PIRATES OF THE CARRIBEAN: DEAD MAN'S CHEST 0\n",
      "train ? 1\n",
      "train BATMAN 2\n",
      "train PERFECT CREATURE 3\n",
      "train 9 4\n",
      "train THE CROW: CITY OF ANGELS 5\n",
      "train \"KATE AND LEOPOLD\" 6\n",
      "train RETURN 7\n",
      "train THE REAL GHOSTBUSTERS 8\n",
      "train \"WILLOW\" 9\n",
      "train NIGHTMARE 13 -- FREDDY MEETS JASON 10\n",
      "train Orgy of the Dead 11\n",
      "train THOR 12\n",
      "train Script 13\n",
      "train GHOST RIDER 14\n",
      "train WONDER WOMAN 15\n",
      "train Crouching Tiger, Hidden Dragon 16\n",
      "train FRANKENSTEIN 17\n",
      "train CLASH OF THE TITANS 18\n",
      "train HELLBOY 2: THE GOLDEN ARMY 19\n",
      "train Mystery Men - Revised June 6,1997 20\n",
      "train BRUCE ALMIGHTY 21\n",
      "train THE ARMY OF DARKNESS 22\n",
      "train DOGMA 23\n",
      "train FANTASTIC FOUR 24\n",
      "train TMNT 25\n",
      "train RED RIDING HOOD 26\n",
      "train \"THE MUMMY\" 27\n",
      "train Star Wars: Episode 1:The Phantom Menace 28\n",
      "train SCOTT PILGRIM VS. THE WORLD 29\n",
      "train THE IMAGINARIUM OF DOCTOR PARNASSUS 30\n",
      "train THE ADDAMS FAMILY 31\n",
      "train LOST HORIZON 32\n",
      "train CORALINE 33\n",
      "train unbreakable 34\n",
      "train CONSTANTINE 35\n",
      "train \"BIG FISH\" 36\n",
      "train M E E T   J O E   B L A C K 37\n",
      "train X-MEN ORIGINS: WOLVERINE 38\n",
      "train The Fifth Element 39\n",
      "train HIGHLANDER 40\n",
      "train CIRQUE DU FREAK 41\n",
      "train THE EMPIRE STRIKES BACK 42\n",
      "train THE LITTLE MERMAID 43\n",
      "train The script to 44\n",
      "train \"GHOST\" 45\n",
      "train \"E.T.\" 46\n",
      "train The Seventh Seal 47\n",
      "train STAR WARS 48\n",
      "train FLASH GORDON 49\n",
      "train GREMLINS 2 50\n",
      "train BLACK SCREEN 51\n",
      "train TED 52\n",
      "train WATCHMEN 53\n",
      "train TOY STORY 54\n",
      "train SHREK 55\n",
      "train BATMAN 2 56\n",
      "train THE CURIOUS CASE OF BENJAMIN BUTTON 57\n",
      "train \"HIGHLANDER IV: WORLD WITHOUT END\" -- Draft 9/1/99 58\n",
      "train TITLE SEQUENCE 59\n",
      "train \"THE HUDSUCKER PROXY\" 60\n",
      "train HEAVY METAL - by Dan Goldberg & Len Blum 61\n",
      "train NIGHTBREED 62\n",
      "train BOOK OF THE DEAD 63\n",
      "train HELLRAISER III: HELL ON EARTH 64\n",
      "train Erik the Viking 65\n",
      "train FADE IN: 66\n",
      "train T H E   G R E E N   M I L E 67\n",
      "train FADE IN -- Title: 68\n",
      "train THE LORD OF THE RINGS: THE TWO TOWERS 69\n",
      "train A N T Z 70\n",
      "train \"The Princess Bride\" 71\n",
      "train Digitized by Guy G. Gordon 72\n",
      "train DRIVE ANGRY 73\n",
      "train PLEASANTVILLE 74\n",
      "train GROUNDHOG DAY 75\n",
      "train Revised Screenplay 76\n",
      "train \"IT'S A WONDERFUL LIFE\" 77\n",
      "train Edward Sissorhands 78\n",
      "train BEING JOHN MALKOVICH 79\n",
      "train ALADDIN:  THE COMPLETE SCRIPT 80\n",
      "train Big 81\n",
      "train \"THE PROPHECY\" 82\n",
      "train LEGEND 83\n",
      "train CONAN THE BARBARIAN 84\n",
      "train CHRIST COMPLEX 85\n",
      "train Movie: MewTwo Strikes Back ***This is not an official manuscript. 86\n",
      "train BEING HUMAN 87\n",
      "train EXCALIBUR 88\n",
      "train TWILIGHT: NEW MOON 89\n",
      "train THE TRUMAN SHOW 90\n",
      "train BEASTS OF THE SOUTHERN WILD 91\n",
      "test \"DRAGONSLAYER\" 92\n",
      "test BEAUTY AND THE BEAST 93\n",
      "test Brazil - the screenplay 94\n",
      "test \"THE BUTTERFLY EFFECT\" 95\n",
      "test HEAVENLY CREATURES 96\n",
      "test HANCOCK 97\n",
      "test LIAR LIAR 98\n",
      "test EVIL DEAD II 99\n",
      "test LEGION 100\n",
      "test BLADE : TRINITY 101\n",
      "test STAR WARS: THE FORCE AWAKENS 102\n",
      "test GREMLINS 103\n",
      "test THE FLINTSTONES 104\n",
      "test MONKEYBONE 105\n",
      "test THE CHRONICLES OF NARNIA 106\n",
      "test THE MASK 107\n",
      "test =-=-=-=-=-=-=-=-=-=-=-=-=-=-=-=-=-=-=-=-=-=-=-=-=-=-=-=-=-=-=-=-=-=-=- 108\n",
      "test For Your Consideration 109\n",
      "test THE JACKET 110\n",
      "test DUNE 111\n",
      "test The CROW 112\n",
      "test MIDNIGHT IN PARIS 113\n",
      "test EXT. SPACE 114\n",
      "test TWILIGHT 115\n"
     ]
    }
   ],
   "source": [
    "train_test_split(romance_scripts_raw_shuff,X_train,y_train,X_test,y_test,0)\n",
    "train_test_split(horror_scripts_raw_shuff,X_train,y_train,X_test,y_test,1)\n",
    "train_test_split(fantasy_scripts_raw_shuff,X_train,y_train,X_test,y_test,2)"
   ]
  },
  {
   "cell_type": "code",
   "execution_count": 132,
   "metadata": {},
   "outputs": [],
   "source": [
    "# pickle.dump(y_train,open('y_train.p','wb'))"
   ]
  },
  {
   "cell_type": "code",
   "execution_count": 133,
   "metadata": {},
   "outputs": [],
   "source": [
    "# pickle.dump(y_test,open('y_test.p','wb'))"
   ]
  },
  {
   "cell_type": "code",
   "execution_count": null,
   "metadata": {},
   "outputs": [],
   "source": [
    "# inspect data to ensure the function worked"
   ]
  },
  {
   "cell_type": "code",
   "execution_count": 63,
   "metadata": {},
   "outputs": [
    {
     "data": {
      "text/plain": [
       "(276, 276, 276)"
      ]
     },
     "execution_count": 63,
     "metadata": {},
     "output_type": "execute_result"
    }
   ],
   "source": [
    "len(X_train), len(y_train),len(keys_list_train)"
   ]
  },
  {
   "cell_type": "code",
   "execution_count": 64,
   "metadata": {},
   "outputs": [
    {
     "data": {
      "text/plain": [
       "(72, 72, 72)"
      ]
     },
     "execution_count": 64,
     "metadata": {},
     "output_type": "execute_result"
    }
   ],
   "source": [
    "len(X_test), len(y_test), len(keys_list_test)"
   ]
  },
  {
   "cell_type": "code",
   "execution_count": 65,
   "metadata": {},
   "outputs": [
    {
     "data": {
      "text/plain": [
       "'SHREK Written by William Steig & Ted Ell'"
      ]
     },
     "execution_count": 65,
     "metadata": {},
     "output_type": "execute_result"
    }
   ],
   "source": [
    "X_train[239][0:40]"
   ]
  },
  {
   "cell_type": "markdown",
   "metadata": {},
   "source": [
    "# Stopwords and Tokenize"
   ]
  },
  {
   "cell_type": "code",
   "execution_count": 66,
   "metadata": {},
   "outputs": [],
   "source": [
    "# list of stopwords is compiled to include\n",
    "stopwords_list = stopwords.words(\"english\") # nltk's english library\n",
    "stopwords_list += string.punctuation # all punctuation\n",
    "stopwords_list += [\"''\", '\"\"', '...', '`']\n",
    "stopwords_list += [str(num) for num in range(0,10)] # numbers from 0-9\n",
    "stopwords_list += list(map(lambda x: x.lower(), nm.words())) # male and female first names from nltk library"
   ]
  },
  {
   "cell_type": "markdown",
   "metadata": {},
   "source": [
    "##### With Lemme"
   ]
  },
  {
   "cell_type": "code",
   "execution_count": 67,
   "metadata": {},
   "outputs": [],
   "source": [
    "lemmatizer = WordNetLemmatizer()\n",
    "def process_script_w_lemme(script):\n",
    "    pattern = \"([a-zA-Z]+(?:'[a-z]*)?)\"\n",
    "    script_tokens_raw =  nltk.regexp_tokenize(script, pattern) # tokenize while elemeninating ' suffix\n",
    "    script_tokens = [word.lower() for word in script_tokens_raw] # lower case every word\n",
    "    # lemmatize based with pos set to verb, noun and adjective.\n",
    "    script_words_stopped = [lemmatizer.lemmatize(word) for word in script_tokens if word not in stopwords_list]\n",
    "    script_words_stopped = [lemmatizer.lemmatize(word,pos='a') for word in script_words_stopped if word not in stopwords_list]\n",
    "    script_words_stopped = [lemmatizer.lemmatize(word,pos='v') for word in script_words_stopped if word not in stopwords_list]\n",
    "    return script_words_stopped"
   ]
  },
  {
   "cell_type": "code",
   "execution_count": 68,
   "metadata": {},
   "outputs": [],
   "source": [
    "processed_script_train_lemme = list(map(process_script_w_lemme, X_train))\n",
    "processed_script_test_lemme = list(map(process_script_w_lemme, X_test))"
   ]
  },
  {
   "cell_type": "code",
   "execution_count": 121,
   "metadata": {},
   "outputs": [],
   "source": [
    "# pickle.dump(processed_script_train_lemme,open('processed_script_train_lemme.p','wb'))"
   ]
  },
  {
   "cell_type": "code",
   "execution_count": 122,
   "metadata": {},
   "outputs": [],
   "source": [
    "# pickle.dump(processed_script_test_lemme,open('processed_script_test_lemme.p','wb'))"
   ]
  },
  {
   "cell_type": "code",
   "execution_count": 71,
   "metadata": {},
   "outputs": [
    {
     "data": {
      "text/plain": [
       "13351"
      ]
     },
     "execution_count": 71,
     "metadata": {},
     "output_type": "execute_result"
    }
   ],
   "source": [
    "len(processed_script_train_lemme[0])"
   ]
  },
  {
   "cell_type": "code",
   "execution_count": 128,
   "metadata": {},
   "outputs": [
    {
     "data": {
      "text/plain": [
       "(276, ['bijou', 'revise', 'draft'])"
      ]
     },
     "execution_count": 128,
     "metadata": {},
     "output_type": "execute_result"
    }
   ],
   "source": [
    "len(processed_script_train_lemme), processed_script_train_lemme[2][0:3]"
   ]
  }
 ],
 "metadata": {
  "kernelspec": {
   "display_name": "Python 3",
   "language": "python",
   "name": "python3"
  },
  "language_info": {
   "codemirror_mode": {
    "name": "ipython",
    "version": 3
   },
   "file_extension": ".py",
   "mimetype": "text/x-python",
   "name": "python",
   "nbconvert_exporter": "python",
   "pygments_lexer": "ipython3",
   "version": "3.7.3"
  },
  "toc": {
   "base_numbering": 1,
   "nav_menu": {},
   "number_sections": true,
   "sideBar": true,
   "skip_h1_title": false,
   "title_cell": "Table of Contents",
   "title_sidebar": "Contents",
   "toc_cell": false,
   "toc_position": {},
   "toc_section_display": true,
   "toc_window_display": false
  }
 },
 "nbformat": 4,
 "nbformat_minor": 2
}
