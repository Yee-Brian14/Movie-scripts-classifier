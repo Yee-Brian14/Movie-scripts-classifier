{
 "cells": [
  {
   "cell_type": "markdown",
   "metadata": {},
   "source": [
    "## Importing libraries to webscrape"
   ]
  },
  {
   "cell_type": "code",
   "execution_count": 1,
   "metadata": {},
   "outputs": [],
   "source": [
    "from bs4 import BeautifulSoup\n",
    "import requests\n",
    "from time import sleep\n",
    "import pickle"
   ]
  },
  {
   "cell_type": "markdown",
   "metadata": {},
   "source": [
    "## Locating links to specific scripts in the html"
   ]
  },
  {
   "cell_type": "code",
   "execution_count": 3,
   "metadata": {},
   "outputs": [],
   "source": [
    "url = 'https://www.imsdb.com/genre/Fantasy'"
   ]
  },
  {
   "cell_type": "code",
   "execution_count": 4,
   "metadata": {
    "collapsed": true
   },
   "outputs": [
    {
     "data": {
      "text/plain": [
       "[<a href=\"/Movie Scripts/9 Script.html\" title=\"9 Script\">9</a>,\n",
       " <a href=\"/Movie Scripts/Addams Family, The Script.html\" title=\"Addams Family, The Script\">Addams Family, The</a>,\n",
       " <a href=\"/Movie Scripts/Aladdin Script.html\" title=\"Aladdin Script\">Aladdin</a>,\n",
       " <a href=\"/Movie Scripts/Antz Script.html\" title=\"Antz Script\">Antz</a>,\n",
       " <a href=\"/Movie Scripts/Army of Darkness Script.html\" title=\"Army of Darkness Script\">Army of Darkness</a>,\n",
       " <a href=\"/Movie Scripts/Batman Script.html\" title=\"Batman Script\">Batman</a>,\n",
       " <a href=\"/Movie Scripts/Batman 2 Script.html\" title=\"Batman 2 Script\">Batman 2</a>,\n",
       " <a href=\"/Movie Scripts/Batman and Robin Script.html\" title=\"Batman and Robin Script\">Batman and Robin</a>,\n",
       " <a href=\"/Movie Scripts/Batman Begins Script.html\" title=\"Batman Begins Script\">Batman Begins</a>,\n",
       " <a href=\"/Movie Scripts/Batman Forever Script.html\" title=\"Batman Forever Script\">Batman Forever</a>,\n",
       " <a href=\"/Movie Scripts/Beasts of the Southern Wild Script.html\" title=\"Beasts of the Southern Wild Script\">Beasts of the Southern Wild</a>,\n",
       " <a href=\"/Movie Scripts/Beauty and the Beast Script.html\" title=\"Beauty and the Beast Script\">Beauty and the Beast</a>,\n",
       " <a href=\"/Movie Scripts/Being Human Script.html\" title=\"Being Human Script\">Being Human</a>,\n",
       " <a href=\"/Movie Scripts/Being John Malkovich Script.html\" title=\"Being John Malkovich Script\">Being John Malkovich</a>,\n",
       " <a href=\"/Movie Scripts/Big Script.html\" title=\"Big Script\">Big</a>,\n",
       " <a href=\"/Movie Scripts/Big Fish Script.html\" title=\"Big Fish Script\">Big Fish</a>,\n",
       " <a href=\"/Movie Scripts/Blade: Trinity Script.html\" title=\"Blade: Trinity Script\">Blade: Trinity</a>,\n",
       " <a href=\"/Movie Scripts/Brazil Script.html\" title=\"Brazil Script\">Brazil</a>,\n",
       " <a href=\"/Movie Scripts/Bruce Almighty Script.html\" title=\"Bruce Almighty Script\">Bruce Almighty</a>,\n",
       " <a href=\"/Movie Scripts/Butterfly Effect, The Script.html\" title=\"Butterfly Effect, The Script\">Butterfly Effect, The</a>,\n",
       " <a href=\"/Movie Scripts/Christ Complex Script.html\" title=\"Christ Complex Script\">Christ Complex</a>,\n",
       " <a href=\"/Movie Scripts/Chronicles of Narnia: The Lion, the Witch and the Wardrobe Script.html\" title=\"Chronicles of Narnia: The Lion, the Witch and the Wardrobe Script\">Chronicles of Narnia: The Lion, the Witch and the Wardrobe</a>,\n",
       " <a href=\"/Movie Scripts/Cirque du Freak: The Vampire's Assistant Script.html\" title=\"Cirque du Freak: The Vampire's Assistant Script\">Cirque du Freak: The Vampire's Assistant</a>,\n",
       " <a href=\"/Movie Scripts/Clash of the Titans Script.html\" title=\"Clash of the Titans Script\">Clash of the Titans</a>,\n",
       " <a href=\"/Movie Scripts/Conan the Barbarian Script.html\" title=\"Conan the Barbarian Script\">Conan the Barbarian</a>,\n",
       " <a href=\"/Movie Scripts/Constantine Script.html\" title=\"Constantine Script\">Constantine</a>,\n",
       " <a href=\"/Movie Scripts/Coraline Script.html\" title=\"Coraline Script\">Coraline</a>,\n",
       " <a href=\"/Movie Scripts/Crouching Tiger, Hidden Dragon Script.html\" title=\"Crouching Tiger, Hidden Dragon Script\">Crouching Tiger, Hidden Dragon</a>,\n",
       " <a href=\"/Movie Scripts/Crow, The Script.html\" title=\"Crow, The Script\">Crow, The</a>,\n",
       " <a href=\"/Movie Scripts/Crow: City of Angels, The Script.html\" title=\"Crow: City of Angels, The Script\">Crow: City of Angels, The</a>,\n",
       " <a href=\"/Movie Scripts/Curious Case of Benjamin Button, The Script.html\" title=\"Curious Case of Benjamin Button, The Script\">Curious Case of Benjamin Button, The</a>,\n",
       " <a href=\"/Movie Scripts/Dogma Script.html\" title=\"Dogma Script\">Dogma</a>,\n",
       " <a href=\"/Movie Scripts/Donnie Darko Script.html\" title=\"Donnie Darko Script\">Donnie Darko</a>,\n",
       " <a href=\"/Movie Scripts/Dragonslayer Script.html\" title=\"Dragonslayer Script\">Dragonslayer</a>,\n",
       " <a href=\"/Movie Scripts/Drive Angry Script.html\" title=\"Drive Angry Script\">Drive Angry</a>,\n",
       " <a href=\"/Movie Scripts/Dune Script.html\" title=\"Dune Script\">Dune</a>,\n",
       " <a href=\"/Movie Scripts/E.T. Script.html\" title=\"E.T. Script\">E.T.</a>,\n",
       " <a href=\"/Movie Scripts/Edward Scissorhands Script.html\" title=\"Edward Scissorhands Script\">Edward Scissorhands</a>,\n",
       " <a href=\"/Movie Scripts/Erik the Viking Script.html\" title=\"Erik the Viking Script\">Erik the Viking</a>,\n",
       " <a href=\"/Movie Scripts/Evil Dead Script.html\" title=\"Evil Dead Script\">Evil Dead</a>,\n",
       " <a href=\"/Movie Scripts/Evil Dead II: Dead by Dawn Script.html\" title=\"Evil Dead II: Dead by Dawn Script\">Evil Dead II: Dead by Dawn</a>,\n",
       " <a href=\"/Movie Scripts/Excalibur Script.html\" title=\"Excalibur Script\">Excalibur</a>,\n",
       " <a href=\"/Movie Scripts/Fantastic Four Script.html\" title=\"Fantastic Four Script\">Fantastic Four</a>,\n",
       " <a href=\"/Movie Scripts/Field of Dreams Script.html\" title=\"Field of Dreams Script\">Field of Dreams</a>,\n",
       " <a href=\"/Movie Scripts/Fifth Element, The Script.html\" title=\"Fifth Element, The Script\">Fifth Element, The</a>,\n",
       " <a href=\"/Movie Scripts/Flash Gordon Script.html\" title=\"Flash Gordon Script\">Flash Gordon</a>,\n",
       " <a href=\"/Movie Scripts/Flintstones, The Script.html\" title=\"Flintstones, The Script\">Flintstones, The</a>,\n",
       " <a href=\"/Movie Scripts/Frankenstein Script.html\" title=\"Frankenstein Script\">Frankenstein</a>,\n",
       " <a href=\"/Movie Scripts/Freddy vs. Jason Script.html\" title=\"Freddy vs. Jason Script\">Freddy vs. Jason</a>,\n",
       " <a href=\"/Movie Scripts/Ghost Script.html\" title=\"Ghost Script\">Ghost</a>,\n",
       " <a href=\"/Movie Scripts/Ghost Rider Script.html\" title=\"Ghost Rider Script\">Ghost Rider</a>,\n",
       " <a href=\"/Movie Scripts/Ghostbusters Script.html\" title=\"Ghostbusters Script\">Ghostbusters</a>,\n",
       " <a href=\"/Movie Scripts/Green Mile, The Script.html\" title=\"Green Mile, The Script\">Green Mile, The</a>,\n",
       " <a href=\"/Movie Scripts/Gremlins Script.html\" title=\"Gremlins Script\">Gremlins</a>,\n",
       " <a href=\"/Movie Scripts/Gremlins 2 Script.html\" title=\"Gremlins 2 Script\">Gremlins 2</a>,\n",
       " <a href=\"/Movie Scripts/Groundhog Day Script.html\" title=\"Groundhog Day Script\">Groundhog Day</a>,\n",
       " <a href=\"/Movie Scripts/Hancock Script.html\" title=\"Hancock Script\">Hancock</a>,\n",
       " <a href=\"/Movie Scripts/Harry Potter and the Chamber of Secrets Script.html\" title=\"Harry Potter and the Chamber of Secrets Script\">Harry Potter and the Chamber of Secrets</a>,\n",
       " <a href=\"/Movie Scripts/Harry Potter and the Deathly Hallows Part 1 Script.html\" title=\"Harry Potter and the Deathly Hallows Part 1 Script\">Harry Potter and the Deathly Hallows Part 1</a>,\n",
       " <a href=\"/Movie Scripts/Harry Potter and the Goblet of Fire Script.html\" title=\"Harry Potter and the Goblet of Fire Script\">Harry Potter and the Goblet of Fire</a>,\n",
       " <a href=\"/Movie Scripts/Harry Potter and the Half-Blood Prince Script.html\" title=\"Harry Potter and the Half-Blood Prince Script\">Harry Potter and the Half-Blood Prince</a>,\n",
       " <a href=\"/Movie Scripts/Harry Potter and the Prisoner of Azkaban Script.html\" title=\"Harry Potter and the Prisoner of Azkaban Script\">Harry Potter and the Prisoner of Azkaban</a>,\n",
       " <a href=\"/Movie Scripts/Harry Potter and the Sorcerer's Stone Script.html\" title=\"Harry Potter and the Sorcerer's Stone Script\">Harry Potter and the Sorcerer's Stone</a>,\n",
       " <a href=\"/Movie Scripts/Heavenly Creatures Script.html\" title=\"Heavenly Creatures Script\">Heavenly Creatures</a>,\n",
       " <a href=\"/Movie Scripts/Heavy Metal Script.html\" title=\"Heavy Metal Script\">Heavy Metal</a>,\n",
       " <a href=\"/Movie Scripts/Hellboy 2: The Golden Army Script.html\" title=\"Hellboy 2: The Golden Army Script\">Hellboy 2: The Golden Army</a>,\n",
       " <a href=\"/Movie Scripts/Hellraiser 3: Hell on Earth Script.html\" title=\"Hellraiser 3: Hell on Earth Script\">Hellraiser 3: Hell on Earth</a>,\n",
       " <a href=\"/Movie Scripts/Highlander Script.html\" title=\"Highlander Script\">Highlander</a>,\n",
       " <a href=\"/Movie Scripts/Highlander: Endgame Script.html\" title=\"Highlander: Endgame Script\">Highlander: Endgame</a>,\n",
       " <a href=\"/Movie Scripts/Hudsucker Proxy, The Script.html\" title=\"Hudsucker Proxy, The Script\">Hudsucker Proxy, The</a>,\n",
       " <a href=\"/Movie Scripts/Imaginarium of Doctor Parnassus, The Script.html\" title=\"Imaginarium of Doctor Parnassus, The Script\">Imaginarium of Doctor Parnassus, The</a>,\n",
       " <a href=\"/Movie Scripts/It's a Wonderful Life Script.html\" title=\"It's a Wonderful Life Script\">It's a Wonderful Life</a>,\n",
       " <a href=\"/Movie Scripts/Jacket, The Script.html\" title=\"Jacket, The Script\">Jacket, The</a>,\n",
       " <a href=\"/Movie Scripts/Kate &amp; Leopold Script.html\" title=\"Kate &amp; Leopold Script\">Kate &amp; Leopold</a>,\n",
       " <a href=\"/Movie Scripts/Labyrinth Script.html\" title=\"Labyrinth Script\">Labyrinth</a>,\n",
       " <a href=\"/Movie Scripts/Legend Script.html\" title=\"Legend Script\">Legend</a>,\n",
       " <a href=\"/Movie Scripts/Legion Script.html\" title=\"Legion Script\">Legion</a>,\n",
       " <a href=\"/Movie Scripts/Liar Liar Script.html\" title=\"Liar Liar Script\">Liar Liar</a>,\n",
       " <a href=\"/Movie Scripts/Little Mermaid, The Script.html\" title=\"Little Mermaid, The Script\">Little Mermaid, The</a>,\n",
       " <a href=\"/Movie Scripts/Little Nicky Script.html\" title=\"Little Nicky Script\">Little Nicky</a>,\n",
       " <a href=\"/Movie Scripts/Lord of Illusions Script.html\" title=\"Lord of Illusions Script\">Lord of Illusions</a>,\n",
       " <a href=\"/Movie Scripts/Lord of the Rings: Fellowship of the Ring, The Script.html\" title=\"Lord of the Rings: Fellowship of the Ring, The Script\">Lord of the Rings: Fellowship of the Ring, The</a>,\n",
       " <a href=\"/Movie Scripts/Lord of the Rings: Return of the King Script.html\" title=\"Lord of the Rings: Return of the King Script\">Lord of the Rings: Return of the King</a>,\n",
       " <a href=\"/Movie Scripts/Lord of the Rings: The Two Towers Script.html\" title=\"Lord of the Rings: The Two Towers Script\">Lord of the Rings: The Two Towers</a>,\n",
       " <a href=\"/Movie Scripts/Lost Horizon Script.html\" title=\"Lost Horizon Script\">Lost Horizon</a>,\n",
       " <a href=\"/Movie Scripts/Mary Poppins Script.html\" title=\"Mary Poppins Script\">Mary Poppins</a>,\n",
       " <a href=\"/Movie Scripts/Mask, The Script.html\" title=\"Mask, The Script\">Mask, The</a>,\n",
       " <a href=\"/Movie Scripts/Meet Joe Black Script.html\" title=\"Meet Joe Black Script\">Meet Joe Black</a>,\n",
       " <a href=\"/Movie Scripts/Midnight in Paris Script.html\" title=\"Midnight in Paris Script\">Midnight in Paris</a>,\n",
       " <a href=\"/Movie Scripts/Monkeybone Script.html\" title=\"Monkeybone Script\">Monkeybone</a>,\n",
       " <a href=\"/Movie Scripts/Mummy, The Script.html\" title=\"Mummy, The Script\">Mummy, The</a>,\n",
       " <a href=\"/Movie Scripts/Mystery Men Script.html\" title=\"Mystery Men Script\">Mystery Men</a>,\n",
       " <a href=\"/Movie Scripts/Neverending Story, The Script.html\" title=\"Neverending Story, The Script\">Neverending Story, The</a>,\n",
       " <a href=\"/Movie Scripts/Nightbreed Script.html\" title=\"Nightbreed Script\">Nightbreed</a>,\n",
       " <a href=\"/Movie Scripts/Nightmare Before Christmas, The Script.html\" title=\"Nightmare Before Christmas, The Script\">Nightmare Before Christmas, The</a>,\n",
       " <a href=\"/Movie Scripts/Nightmare Before Christmas, The Script.html\" title=\"Nightmare Before Christmas, The Script\">Nightmare Before Christmas, The</a>,\n",
       " <a href=\"/Movie Scripts/Orgy of the Dead Script.html\" title=\"Orgy of the Dead Script\">Orgy of the Dead</a>,\n",
       " <a href=\"/Movie Scripts/Perfect Creature Script.html\" title=\"Perfect Creature Script\">Perfect Creature</a>,\n",
       " <a href=\"/Movie Scripts/Pirates of the Caribbean: Dead Man's Chest Script.html\" title=\"Pirates of the Caribbean: Dead Man's Chest Script\">Pirates of the Caribbean: Dead Man's Chest</a>,\n",
       " <a href=\"/Movie Scripts/Pleasantville Script.html\" title=\"Pleasantville Script\">Pleasantville</a>,\n",
       " <a href=\"/Movie Scripts/Pokemon: Mewtwo Returns Script.html\" title=\"Pokemon: Mewtwo Returns Script\">Pokemon: Mewtwo Returns</a>,\n",
       " <a href=\"/Movie Scripts/Princess Bride, The Script.html\" title=\"Princess Bride, The Script\">Princess Bride, The</a>,\n",
       " <a href=\"/Movie Scripts/Prophecy, The Script.html\" title=\"Prophecy, The Script\">Prophecy, The</a>,\n",
       " <a href=\"/Movie Scripts/Red Riding Hood Script.html\" title=\"Red Riding Hood Script\">Red Riding Hood</a>,\n",
       " <a href=\"/Movie Scripts/Scott Pilgrim vs the World Script.html\" title=\"Scott Pilgrim vs the World Script\">Scott Pilgrim vs the World</a>,\n",
       " <a href=\"/Movie Scripts/Seventh Seal, The Script.html\" title=\"Seventh Seal, The Script\">Seventh Seal, The</a>,\n",
       " <a href=\"/Movie Scripts/Shrek Script.html\" title=\"Shrek Script\">Shrek</a>,\n",
       " <a href=\"/Movie Scripts/Star Wars: A New Hope Script.html\" title=\"Star Wars: A New Hope Script\">Star Wars: A New Hope</a>,\n",
       " <a href=\"/Movie Scripts/Star Wars: Attack of the Clones Script.html\" title=\"Star Wars: Attack of the Clones Script\">Star Wars: Attack of the Clones</a>,\n",
       " <a href=\"/Movie Scripts/Star Wars: Return of the Jedi Script.html\" title=\"Star Wars: Return of the Jedi Script\">Star Wars: Return of the Jedi</a>,\n",
       " <a href=\"/Movie Scripts/Star Wars: Revenge of the Sith Script.html\" title=\"Star Wars: Revenge of the Sith Script\">Star Wars: Revenge of the Sith</a>,\n",
       " <a href=\"/Movie Scripts/Star Wars: The Empire Strikes Back Script.html\" title=\"Star Wars: The Empire Strikes Back Script\">Star Wars: The Empire Strikes Back</a>,\n",
       " <a href=\"/Movie Scripts/Star Wars: The Force Awakens Script.html\" title=\"Star Wars: The Force Awakens Script\">Star Wars: The Force Awakens</a>,\n",
       " <a href=\"/Movie Scripts/Star Wars: The Phantom Menace Script.html\" title=\"Star Wars: The Phantom Menace Script\">Star Wars: The Phantom Menace</a>,\n",
       " <a href=\"/Movie Scripts/Supergirl Script.html\" title=\"Supergirl Script\">Supergirl</a>,\n",
       " <a href=\"/Movie Scripts/Ted Script.html\" title=\"Ted Script\">Ted</a>,\n",
       " <a href=\"/Movie Scripts/Thor Script.html\" title=\"Thor Script\">Thor</a>,\n",
       " <a href=\"/Movie Scripts/TMNT Script.html\" title=\"TMNT Script\">TMNT</a>,\n",
       " <a href=\"/Movie Scripts/Toy Story Script.html\" title=\"Toy Story Script\">Toy Story</a>,\n",
       " <a href=\"/Movie Scripts/TRON Script.html\" title=\"TRON Script\">TRON</a>,\n",
       " <a href=\"/Movie Scripts/Truman Show, The Script.html\" title=\"Truman Show, The Script\">Truman Show, The</a>,\n",
       " <a href=\"/Movie Scripts/Twilight Script.html\" title=\"Twilight Script\">Twilight</a>,\n",
       " <a href=\"/Movie Scripts/Twilight: New Moon Script.html\" title=\"Twilight: New Moon Script\">Twilight: New Moon</a>,\n",
       " <a href=\"/Movie Scripts/Unbreakable Script.html\" title=\"Unbreakable Script\">Unbreakable</a>,\n",
       " <a href=\"/Movie Scripts/Watchmen Script.html\" title=\"Watchmen Script\">Watchmen</a>,\n",
       " <a href=\"/Movie Scripts/Who Framed Roger Rabbit? Script.html\" title=\"Who Framed Roger Rabbit? Script\">Who Framed Roger Rabbit?</a>,\n",
       " <a href=\"/Movie Scripts/Willow Script.html\" title=\"Willow Script\">Willow</a>,\n",
       " <a href=\"/Movie Scripts/Wizard of Oz, The Script.html\" title=\"Wizard of Oz, The Script\">Wizard of Oz, The</a>,\n",
       " <a href=\"/Movie Scripts/Wonder Woman Script.html\" title=\"Wonder Woman Script\">Wonder Woman</a>,\n",
       " <a href=\"/Movie Scripts/X-Men Origins: Wolverine Script.html\" title=\"X-Men Origins: Wolverine Script\">X-Men Origins: Wolverine</a>]"
      ]
     },
     "execution_count": 4,
     "metadata": {},
     "output_type": "execute_result"
    }
   ],
   "source": [
    "soup = BeautifulSoup(requests.get(url).content,'html.parser')\n",
    "soup.select('a')[64:-7]"
   ]
  },
  {
   "cell_type": "markdown",
   "metadata": {},
   "source": [
    "## Initializing a pickle to store our scraped scripts"
   ]
  },
  {
   "cell_type": "code",
   "execution_count": 5,
   "metadata": {},
   "outputs": [],
   "source": [
    "pickle.dump({},open('fan_scripts.p','wb'))"
   ]
  },
  {
   "cell_type": "markdown",
   "metadata": {},
   "source": [
    "## Function to scrape scripts"
   ]
  },
  {
   "cell_type": "code",
   "execution_count": 6,
   "metadata": {},
   "outputs": [],
   "source": [
    "def scrape_scripts(genre_url, counter_init=0, list_st=64,list_end=-7,pckl_file):\n",
    "    \"\"\"\n",
    "    PARAMETERS\n",
    "    ------------------\n",
    "    genre_url (string):\n",
    "        URL of the genre page with links to movies.\n",
    "        Should have the form - \"https://www.imsdb.com/genre/*Genre Name*\"\n",
    "    counter_init (integer):\n",
    "        Counter to keep track of which movie you are up to. For display\n",
    "        purposes only, does not impact the function of the code\n",
    "    list_st (integer):\n",
    "        Index to start at in the list of 'a' tags in the html.\n",
    "    list_end (integer):\n",
    "        Index to end at in the list of 'a' tags in the html.\n",
    "    pckl_file (string):\n",
    "        Where to pickle the scraped data to.\n",
    "    \"\"\"\n",
    "    scripts = []\n",
    "    # Get the list of movie script links from the main genre page.\n",
    "    soup = BeautifulSoup(requests.get(genre_url).content,'html.parser')\n",
    "    movie_links = [a['href'] for a in soup.select('a')[list_st:list_end]]\n",
    "    counter = counter_init\n",
    "    # For each movie in the list of links,\n",
    "    #    -Navigate to the page with the script \n",
    "    #    -Gather the text of the script from the page\n",
    "    #        -Remove blank lines and white spaces then join into a single string\n",
    "    #    -Add this new script into the pickle.\n",
    "    for movie_link in movie_links:\n",
    "        sleep(0.5)\n",
    "        movie = requests.get('https://www.imsdb.com'+movie_link)\n",
    "        soup2 = BeautifulSoup(movie.content,'html.parser')\n",
    "        script_url = soup2.select('table.script-details a')[-1]['href']\n",
    "        # If the link isn't a script, skip to the next movie.\n",
    "        if not script_url.startswith('/scripts/'):\n",
    "            continue\n",
    "        sleep(0.5)\n",
    "        script = requests.get('https://www.imsdb.com'+script_url)\n",
    "        soup3 = BeautifulSoup(script.content,'html.parser')\n",
    "        # Different scripts have different tag formats. Try the most common ones.\n",
    "        try:\n",
    "            lines = [line.strip() for line in soup3.select('pre pre')[0].text.split('\\n')]\n",
    "            print(counter,'WORKED:',script_url)\n",
    "        except IndexError:\n",
    "            try:\n",
    "                lines = [line.strip() for line in soup3.select('pre')[0].text.split('\\n')]\n",
    "                print(counter,'WORKED:',script_url)\n",
    "            except IndexError:\n",
    "                print(counter,'FAILED:',script_url)\n",
    "                continue\n",
    "        # Remove empty lines\n",
    "        lines = [line for line in lines if line!='']\n",
    "        # Load the existing pickle, add the new script with the title as the dictionary key,\n",
    "        # and then pickle the new updated dictionary.\n",
    "        temp = pickle.load(open(pckl_file,'rb'))\n",
    "        try:\n",
    "            temp[lines[0]] = ' '.join(lines)\n",
    "        except IndexError:\n",
    "            print('Scraping ended up returning nothing.')\n",
    "            continue\n",
    "        pickle.dump(temp,open(pckl_file,'wb'))\n",
    "        \n",
    "        sleep(0.5)\n",
    "        counter+=1\n",
    "    return scripts"
   ]
  },
  {
   "cell_type": "code",
   "execution_count": 7,
   "metadata": {
    "scrolled": true
   },
   "outputs": [
    {
     "name": "stdout",
     "output_type": "stream",
     "text": [
      "0 WORKED: /scripts/9.html\n",
      "1 WORKED: /scripts/Addams-Family,-The.html\n",
      "2 WORKED: /scripts/Aladdin.html\n",
      "3 WORKED: /scripts/Antz.html\n",
      "4 WORKED: /scripts/Army-of-Darkness.html\n",
      "5 WORKED: /scripts/Batman.html\n",
      "6 WORKED: /scripts/Batman-2.html\n",
      "7 WORKED: /scripts/Beasts-of-the-Southern-Wild.html\n",
      "8 WORKED: /scripts/Beauty-and-the-Beast.html\n",
      "9 WORKED: /scripts/Being-Human.html\n",
      "10 WORKED: /scripts/Being-John-Malkovich.html\n",
      "11 WORKED: /scripts/Big.html\n",
      "12 WORKED: /scripts/Big-Fish.html\n",
      "13 WORKED: /scripts/Blade-Trinity.html\n",
      "14 WORKED: /scripts/Brazil.html\n",
      "15 WORKED: /scripts/Bruce-Almighty.html\n",
      "16 WORKED: /scripts/Butterfly-Effect,-The.html\n",
      "17 WORKED: /scripts/Christ-Complex.html\n",
      "18 WORKED: /scripts/Chronicles-of-Narnia-The-Lion,-the-Witch-and-the-Wardrobe.html\n",
      "19 WORKED: /scripts/Cirque-du-Freak-The-Vampire's-Assistant.html\n",
      "20 WORKED: /scripts/Clash-of-the-Titans.html\n",
      "21 WORKED: /scripts/Conan-the-Barbarian.html\n",
      "22 WORKED: /scripts/Constantine.html\n",
      "23 WORKED: /scripts/Coraline.html\n",
      "24 WORKED: /scripts/Crouching-Tiger,-Hidden-Dragon.html\n",
      "25 WORKED: /scripts/Crow,-The.html\n",
      "26 WORKED: /scripts/Crow-City-of-Angels,-The.html\n",
      "27 WORKED: /scripts/Curious-Case-of-Benjamin-Button,-The.html\n",
      "28 WORKED: /scripts/Dogma.html\n",
      "29 WORKED: /scripts/Dragonslayer.html\n",
      "30 WORKED: /scripts/Drive-Angry.html\n",
      "31 WORKED: /scripts/Dune.html\n",
      "32 WORKED: /scripts/E.T..html\n",
      "33 WORKED: /scripts/Edward-Scissorhands.html\n",
      "34 WORKED: /scripts/Erik-the-Viking.html\n",
      "35 WORKED: /scripts/Evil-Dead.html\n",
      "36 WORKED: /scripts/Evil-Dead-II-Dead-by-Dawn.html\n",
      "37 WORKED: /scripts/Excalibur.html\n",
      "38 WORKED: /scripts/Fantastic-Four.html\n",
      "39 WORKED: /scripts/Field-of-Dreams.html\n",
      "40 WORKED: /scripts/Fifth-Element,-The.html\n",
      "41 WORKED: /scripts/Flash-Gordon.html\n",
      "42 WORKED: /scripts/Flintstones,-The.html\n",
      "43 WORKED: /scripts/Frankenstein.html\n",
      "44 WORKED: /scripts/Freddy-vs.-Jason.html\n",
      "45 WORKED: /scripts/Ghost.html\n",
      "46 WORKED: /scripts/Ghost-Rider.html\n",
      "47 WORKED: /scripts/Ghostbusters.html\n",
      "48 WORKED: /scripts/Green-Mile,-The.html\n",
      "49 WORKED: /scripts/Gremlins.html\n",
      "50 WORKED: /scripts/Gremlins-2.html\n",
      "51 WORKED: /scripts/Groundhog-Day.html\n",
      "52 WORKED: /scripts/Hancock.html\n",
      "53 WORKED: /scripts/Heavenly-Creatures.html\n",
      "54 WORKED: /scripts/Heavy-Metal.html\n",
      "55 WORKED: /scripts/Hellboy-2-The-Golden-Army.html\n",
      "56 WORKED: /scripts/Hellraiser-3-Hell-on-Earth.html\n",
      "57 WORKED: /scripts/Highlander.html\n",
      "58 WORKED: /scripts/Highlander-Endgame.html\n",
      "59 WORKED: /scripts/Hudsucker-Proxy,-The.html\n",
      "60 WORKED: /scripts/Imaginarium-of-Doctor-Parnassus,-The.html\n",
      "61 WORKED: /scripts/It's-a-Wonderful-Life.html\n",
      "62 WORKED: /scripts/Jacket,-The.html\n",
      "63 WORKED: /scripts/Kate-&-Leopold.html\n",
      "64 WORKED: /scripts/Labyrinth.html\n",
      "65 WORKED: /scripts/Legend.html\n",
      "66 WORKED: /scripts/Legion.html\n",
      "67 WORKED: /scripts/Liar-Liar.html\n",
      "68 WORKED: /scripts/Little-Mermaid,-The.html\n",
      "69 WORKED: /scripts/Little-Nicky.html\n",
      "70 WORKED: /scripts/Lord-of-Illusions.html\n",
      "71 WORKED: /scripts/Lord-of-the-Rings-Fellowship-of-the-Ring,-The.html\n",
      "72 WORKED: /scripts/Lord-of-the-Rings-Return-of-the-King.html\n",
      "73 WORKED: /scripts/Lord-of-the-Rings-The-Two-Towers.html\n",
      "74 WORKED: /scripts/Lost-Horizon.html\n",
      "75 WORKED: /scripts/Mary-Poppins.html\n",
      "Just Kidding\n",
      "75 WORKED: /scripts/Mask,-The.html\n",
      "76 WORKED: /scripts/Meet-Joe-Black.html\n",
      "77 WORKED: /scripts/Midnight-in-Paris.html\n",
      "78 WORKED: /scripts/Monkeybone.html\n",
      "79 WORKED: /scripts/Mummy,-The.html\n",
      "80 WORKED: /scripts/Mystery-Men.html\n",
      "81 WORKED: /scripts/Neverending-Story,-The.html\n",
      "82 WORKED: /scripts/Nightbreed.html\n",
      "83 WORKED: /scripts/Nightmare-Before-Christmas,-The.html\n",
      "84 WORKED: /scripts/Nightmare-Before-Christmas,-The.html\n",
      "85 WORKED: /scripts/Orgy-of-the-Dead.html\n",
      "86 WORKED: /scripts/Perfect-Creature.html\n",
      "87 WORKED: /scripts/Pirates-of-the-Caribbean-Dead-Man's-Chest.html\n",
      "88 WORKED: /scripts/Pleasantville.html\n",
      "89 WORKED: /scripts/Pokemon-Mewtwo-Returns.html\n",
      "90 WORKED: /scripts/Princess-Bride,-The.html\n",
      "91 WORKED: /scripts/Prophecy,-The.html\n",
      "92 WORKED: /scripts/Red-Riding-Hood.html\n",
      "93 WORKED: /scripts/Scott-Pilgrim-vs-the-World.html\n",
      "94 WORKED: /scripts/Seventh-Seal,-The.html\n",
      "95 WORKED: /scripts/Shrek.html\n",
      "96 WORKED: /scripts/Star-Wars-A-New-Hope.html\n",
      "97 WORKED: /scripts/Star-Wars-Attack-of-the-Clones.html\n",
      "98 WORKED: /scripts/Star-Wars-Return-of-the-Jedi.html\n",
      "99 FAILED: /scripts/Star-Wars-Revenge-of-the-Sith.html\n",
      "99 WORKED: /scripts/Star-Wars-The-Empire-Strikes-Back.html\n",
      "100 WORKED: /scripts/Star-Wars-The-Force-Awakens.html\n",
      "101 WORKED: /scripts/Star-Wars-The-Phantom-Menace.html\n",
      "102 WORKED: /scripts/Supergirl.html\n",
      "103 WORKED: /scripts/Ted.html\n",
      "104 WORKED: /scripts/Thor.html\n",
      "105 WORKED: /scripts/TMNT.html\n",
      "106 WORKED: /scripts/Toy-Story.html\n",
      "107 WORKED: /scripts/TRON.html\n",
      "108 WORKED: /scripts/Truman-Show,-The.html\n",
      "109 WORKED: /scripts/Twilight.html\n",
      "110 WORKED: /scripts/Twilight-New-Moon.html\n",
      "111 WORKED: /scripts/Unbreakable.html\n",
      "112 WORKED: /scripts/Watchmen.html\n",
      "113 WORKED: /scripts/Who-Framed-Roger-Rabbit%3f.html\n",
      "Just Kidding\n",
      "113 WORKED: /scripts/Willow.html\n",
      "114 WORKED: /scripts/Wizard-of-Oz,-The.html\n",
      "115 WORKED: /scripts/Wonder-Woman.html\n",
      "116 WORKED: /scripts/X-Men-Origins-Wolverine.html\n"
     ]
    }
   ],
   "source": [
    "scripts = scrape_scripts('https://www.imsdb.com/genre/Fantasy',0,64,-7,'fan_scripts.p')"
   ]
  },
  {
   "cell_type": "code",
   "execution_count": 8,
   "metadata": {},
   "outputs": [
    {
     "data": {
      "text/plain": [
       "0"
      ]
     },
     "execution_count": 8,
     "metadata": {},
     "output_type": "execute_result"
    }
   ],
   "source": [
    "len(scripts)"
   ]
  },
  {
   "cell_type": "code",
   "execution_count": 9,
   "metadata": {},
   "outputs": [],
   "source": [
    "test = pickle.load(open('fan_scripts.p','rb'))"
   ]
  },
  {
   "cell_type": "code",
   "execution_count": 11,
   "metadata": {},
   "outputs": [
    {
     "data": {
      "text/plain": [
       "116"
      ]
     },
     "execution_count": 11,
     "metadata": {},
     "output_type": "execute_result"
    }
   ],
   "source": [
    "len([title.strip('\"') for title in test.keys()])"
   ]
  },
  {
   "cell_type": "code",
   "execution_count": 12,
   "metadata": {},
   "outputs": [
    {
     "data": {
      "text/plain": [
       "116"
      ]
     },
     "execution_count": 12,
     "metadata": {},
     "output_type": "execute_result"
    }
   ],
   "source": [
    "len([title.strip('\"') for title in test.keys()])"
   ]
  },
  {
   "cell_type": "code",
   "execution_count": null,
   "metadata": {},
   "outputs": [],
   "source": []
  }
 ],
 "metadata": {
  "kernelspec": {
   "display_name": "Python 3",
   "language": "python",
   "name": "python3"
  },
  "language_info": {
   "codemirror_mode": {
    "name": "ipython",
    "version": 3
   },
   "file_extension": ".py",
   "mimetype": "text/x-python",
   "name": "python",
   "nbconvert_exporter": "python",
   "pygments_lexer": "ipython3",
   "version": "3.7.3"
  }
 },
 "nbformat": 4,
 "nbformat_minor": 2
}
